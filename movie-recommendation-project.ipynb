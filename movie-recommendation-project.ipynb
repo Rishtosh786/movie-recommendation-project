{
  "nbformat": 4,
  "nbformat_minor": 0,
  "metadata": {
    "colab": {
      "provenance": []
    },
    "kernelspec": {
      "name": "python3",
      "display_name": "Python 3"
    },
    "language_info": {
      "name": "python"
    }
  },
  "cells": [
    {
      "cell_type": "code",
      "execution_count": 5,
      "metadata": {
        "id": "6OWaBIryCkEm"
      },
      "outputs": [],
      "source": [
        "import pandas as pd\n",
        "from sklearn.feature_extraction.text import CountVectorizer\n",
        "from sklearn.metrics.pairwise import cosine_similarity"
      ]
    },
    {
      "cell_type": "markdown",
      "source": [
        "Loading the dataset"
      ],
      "metadata": {
        "id": "tgVb4rOXEF1Z"
      }
    },
    {
      "cell_type": "code",
      "source": [
        "movies_df = pd.read_csv('movies.csv')\n"
      ],
      "metadata": {
        "id": "eqrX4SDXClWD"
      },
      "execution_count": 6,
      "outputs": []
    },
    {
      "cell_type": "markdown",
      "source": [
        "Convert the movie descriptions into vectors\n"
      ],
      "metadata": {
        "id": "lgdPlLtwESKR"
      }
    },
    {
      "cell_type": "code",
      "source": [
        "vectorizer = CountVectorizer()\n",
        "movie_vectors = vectorizer.fit_transform(movies_df['description'])\n"
      ],
      "metadata": {
        "id": "TXekONiQCm_z"
      },
      "execution_count": 7,
      "outputs": []
    },
    {
      "cell_type": "markdown",
      "source": [
        "Calculate the cosine similarity between all pairs of movies\n"
      ],
      "metadata": {
        "id": "krduvlwoEMr-"
      }
    },
    {
      "cell_type": "code",
      "source": [
        "cosine_similarities = cosine_similarity(movie_vectors)"
      ],
      "metadata": {
        "id": "NKfs6g8nCqWj"
      },
      "execution_count": 8,
      "outputs": []
    },
    {
      "cell_type": "markdown",
      "source": [
        "Define a function to get the top N recommendations for a given movie\n"
      ],
      "metadata": {
        "id": "I_1XKOm_EcLT"
      }
    },
    {
      "cell_type": "code",
      "source": [
        "def get_recommendations(movie_title, N):\n",
        "    # Find the index of the given movie in the dataset\n",
        "    movie_index = movies_df[movies_df['title'] == movie_title].index[0]\n",
        "    \n",
        "    # Get the cosine similarity scores for all movies compared to the given movie\n",
        "    movie_scores = list(enumerate(cosine_similarities[movie_index]))\n",
        "    \n",
        "    # Sort the scores in descending order\n",
        "    movie_scores = sorted(movie_scores, key=lambda x: x[1], reverse=True)\n",
        "    \n",
        "    # Get the top N movie recommendations\n",
        "    top_N_movies = movie_scores[1:N+1]\n",
        "    \n",
        "    # Get the movie titles from their indices\n",
        "    movie_indices = [movie[0] for movie in top_N_movies]\n",
        "    movie_titles = movies_df['title'].iloc[movie_indices]\n",
        "    \n",
        "    return movie_titles\n"
      ],
      "metadata": {
        "id": "UwwxNcrECrv5"
      },
      "execution_count": 9,
      "outputs": []
    },
    {
      "cell_type": "markdown",
      "source": [
        "Get recommendations"
      ],
      "metadata": {
        "id": "F-RvAJgLEgks"
      }
    },
    {
      "cell_type": "code",
      "source": [
        "get_recommendations('The Dark Knight', 5)\n"
      ],
      "metadata": {
        "colab": {
          "base_uri": "https://localhost:8080/"
        },
        "id": "iRoj04E1CtEd",
        "outputId": "6e0ac126-5f1e-43b0-ab29-ebeb47774553"
      },
      "execution_count": 10,
      "outputs": [
        {
          "output_type": "execute_result",
          "data": {
            "text/plain": [
              "11                                     Forrest Gump\n",
              "13            The Lord of the Rings: The Two Towers\n",
              "12                                        Inception\n",
              "6     The Lord of the Rings: The Return of the King\n",
              "7                                      Pulp Fiction\n",
              "Name: title, dtype: object"
            ]
          },
          "metadata": {},
          "execution_count": 10
        }
      ]
    }
  ]
}